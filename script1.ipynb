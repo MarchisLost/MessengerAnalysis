{
 "cells": [
  {
   "cell_type": "code",
   "execution_count": 7,
   "metadata": {},
   "outputs": [],
   "source": [
    "import pandas as pd\n",
    "import csv\n",
    "from retrieveData import retrieveData"
   ]
  },
  {
   "cell_type": "code",
   "execution_count": null,
   "metadata": {},
   "outputs": [],
   "source": [
    "data, filesNames = retrieveData()\n",
    "data[44]"
   ]
  },
  {
   "cell_type": "code",
   "execution_count": null,
   "metadata": {},
   "outputs": [],
   "source": [
    "#Receives data as dict of lists of dicts? and transforms it as a list of dicts\n",
    "data2 = []\n",
    "for i in range(1, len(filesNames)+1):\n",
    "    for j in range(len(data[i])):\n",
    "        data2.append(data[i][j])\n",
    "data2\n"
   ]
  },
  {
   "cell_type": "code",
   "execution_count": 90,
   "metadata": {},
   "outputs": [
    {
     "data": {
      "text/plain": [
       "sender_name\n",
       "Joana Ribeiro    227585\n",
       "David Pinto      205961\n",
       "dtype: int64"
      ]
     },
     "execution_count": 90,
     "metadata": {},
     "output_type": "execute_result"
    }
   ],
   "source": [
    "#Creates and copies the df to work with it\n",
    "dfData = pd.DataFrame(data2)\n",
    "dfData2 = dfData.copy()\n",
    "dfData2"
   ]
  },
  {
   "cell_type": "code",
   "execution_count": null,
   "metadata": {},
   "outputs": [],
   "source": [
    "#Counts how many messages each person sent\n",
    "personCounted = dfData2.value_counts(subset=\"sender_name\")\n",
    "personCounted"
   ]
  },
  {
   "cell_type": "code",
   "execution_count": 79,
   "metadata": {},
   "outputs": [
    {
     "data": {
      "text/plain": [
       "pandas.core.series.Series"
      ]
     },
     "execution_count": 79,
     "metadata": {},
     "output_type": "execute_result"
    }
   ],
   "source": [
    "#Counts how many messages per year\n",
    "dfData2['timestamp_ms'] = pd.to_datetime(dfData2['timestamp_ms'], unit='ms')\n",
    "yearsCounted = dfData2.groupby(dfData2[\"timestamp_ms\"].dt.year).size()\n",
    "yearsCounted"
   ]
  },
  {
   "cell_type": "code",
   "execution_count": 89,
   "metadata": {},
   "outputs": [
    {
     "data": {
      "text/plain": [
       "[Text(0, 0, '1'),\n",
       " Text(0, 0, '470'),\n",
       " Text(0, 0, '56661'),\n",
       " Text(0, 0, '60230'),\n",
       " Text(0, 0, '65262'),\n",
       " Text(0, 0, '71323'),\n",
       " Text(0, 0, '61525'),\n",
       " Text(0, 0, '72554'),\n",
       " Text(0, 0, '45520')]"
      ]
     },
     "execution_count": 89,
     "metadata": {},
     "output_type": "execute_result"
    },
    {
     "data": {
      "image/png": "[encoded data removed]",
      "text/plain": [
       "<Figure size 432x288 with 1 Axes>"
      ]
     },
     "metadata": {
      "needs_background": "light"
     },
     "output_type": "display_data"
    }
   ],
   "source": [
    "#Plots years counter\n",
    "ax = yearsCounted.plot.bar(x='Date', y='Count', rot=0)\n",
    "ax.bar_label(ax.containers[0])"
   ]
  }
 ],
 "metadata": {
  "kernelspec": {
   "display_name": "Python 3.9.13 ('venv': venv)",
   "language": "python",
   "name": "python3"
  },
  "language_info": {
   "codemirror_mode": {
    "name": "ipython",
    "version": 3
   },
   "file_extension": ".py",
   "mimetype": "text/x-python",
   "name": "python",
   "nbconvert_exporter": "python",
   "pygments_lexer": "ipython3",
   "version": "3.9.13"
  },
  "orig_nbformat": 4,
  "vscode": {
   "interpreter": {
    "hash": "2fbe73d8239849375dfa49499054c03309e58125b23f9e24e10657e8060b4aac"
   }
  }
 },
 "nbformat": 4,
 "nbformat_minor": 2
}
