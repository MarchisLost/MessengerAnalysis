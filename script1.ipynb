{
 "cells": [
  {
   "cell_type": "code",
   "execution_count": 7,
   "metadata": {},
   "outputs": [],
   "source": [
    "import pandas as pd\n",
    "import csv\n",
    "from retrieveData import retrieveData"
   ]
  },
  {
   "cell_type": "code",
   "execution_count": null,
   "metadata": {},
   "outputs": [],
   "source": [
    "data, filesNames = retrieveData()\n",
    "data[44]"
   ]
  },
  {
   "cell_type": "code",
   "execution_count": null,
   "metadata": {},
   "outputs": [],
   "source": [
    "data2 = []\n",
    "for i in range(1, len(filesNames)+1):\n",
    "    for j in range(len(data[i])):\n",
    "        data2.append(data[i][j])\n",
    "data2\n"
   ]
  },
  {
   "cell_type": "code",
   "execution_count": 70,
   "metadata": {},
   "outputs": [
    {
     "data": {
      "text/plain": [
       "sender_name\n",
       "Joana Ribeiro    227585\n",
       "David Pinto      205961\n",
       "dtype: int64"
      ]
     },
     "execution_count": 70,
     "metadata": {},
     "output_type": "execute_result"
    }
   ],
   "source": [
    "dfData = pd.DataFrame(data2)\n",
    "dfData2 = dfData.copy()\n",
    "dfData2\n",
    "personCounted = dfData2.value_counts(subset=\"sender_name\")\n",
    "personCounted"
   ]
  },
  {
   "cell_type": "code",
   "execution_count": 75,
   "metadata": {},
   "outputs": [
    {
     "data": {
      "text/plain": [
       "timestamp_ms\n",
       "2013        1\n",
       "2014      470\n",
       "2015    56661\n",
       "2016    60230\n",
       "2017    65262\n",
       "2018    71323\n",
       "2019    61525\n",
       "2020    72554\n",
       "2021    45520\n",
       "dtype: int64"
      ]
     },
     "execution_count": 75,
     "metadata": {},
     "output_type": "execute_result"
    }
   ],
   "source": [
    "dfData2['timestamp_ms'] = pd.to_datetime(dfData2['timestamp_ms'], unit='ms')\n",
    "yearsCounted = dfData2.groupby(dfData2[\"timestamp_ms\"].dt.year).size()\n",
    "yearsCounted"
   ]
  }
 ],
 "metadata": {
  "kernelspec": {
   "display_name": "Python 3.9.13 ('venv': venv)",
   "language": "python",
   "name": "python3"
  },
  "language_info": {
   "codemirror_mode": {
    "name": "ipython",
    "version": 3
   },
   "file_extension": ".py",
   "mimetype": "text/x-python",
   "name": "python",
   "nbconvert_exporter": "python",
   "pygments_lexer": "ipython3",
   "version": "3.9.13"
  },
  "orig_nbformat": 4,
  "vscode": {
   "interpreter": {
    "hash": "2fbe73d8239849375dfa49499054c03309e58125b23f9e24e10657e8060b4aac"
   }
  }
 },
 "nbformat": 4,
 "nbformat_minor": 2
}
